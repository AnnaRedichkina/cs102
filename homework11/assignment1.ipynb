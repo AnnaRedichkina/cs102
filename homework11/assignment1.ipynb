{
 "cells": [
  {
   "cell_type": "code",
   "execution_count": 4,
   "metadata": {},
   "outputs": [],
   "source": [
    "import pandas as pd\n",
    "import numpy as np\n",
    "import warnings\n",
    "warnings.filterwarnings(\"ignore\")"
   ]
  },
  {
   "cell_type": "code",
   "execution_count": 5,
   "metadata": {},
   "outputs": [],
   "source": [
    "data = pd.read_csv('athlete_events.csv')"
   ]
  },
  {
   "cell_type": "code",
   "execution_count": 6,
   "metadata": {},
   "outputs": [
    {
     "data": {
      "text/html": [
       "<div>\n",
       "<style scoped>\n",
       "    .dataframe tbody tr th:only-of-type {\n",
       "        vertical-align: middle;\n",
       "    }\n",
       "\n",
       "    .dataframe tbody tr th {\n",
       "        vertical-align: top;\n",
       "    }\n",
       "\n",
       "    .dataframe thead th {\n",
       "        text-align: right;\n",
       "    }\n",
       "</style>\n",
       "<table border=\"1\" class=\"dataframe\">\n",
       "  <thead>\n",
       "    <tr style=\"text-align: right;\">\n",
       "      <th></th>\n",
       "      <th>ID</th>\n",
       "      <th>Name</th>\n",
       "      <th>Sex</th>\n",
       "      <th>Age</th>\n",
       "      <th>Height</th>\n",
       "      <th>Weight</th>\n",
       "      <th>Team</th>\n",
       "      <th>NOC</th>\n",
       "      <th>Games</th>\n",
       "      <th>Year</th>\n",
       "      <th>Season</th>\n",
       "      <th>City</th>\n",
       "      <th>Sport</th>\n",
       "      <th>Event</th>\n",
       "      <th>Medal</th>\n",
       "    </tr>\n",
       "  </thead>\n",
       "  <tbody>\n",
       "    <tr>\n",
       "      <th>0</th>\n",
       "      <td>1</td>\n",
       "      <td>A Dijiang</td>\n",
       "      <td>M</td>\n",
       "      <td>24.0</td>\n",
       "      <td>180.0</td>\n",
       "      <td>80.0</td>\n",
       "      <td>China</td>\n",
       "      <td>CHN</td>\n",
       "      <td>1992 Summer</td>\n",
       "      <td>1992</td>\n",
       "      <td>Summer</td>\n",
       "      <td>Barcelona</td>\n",
       "      <td>Basketball</td>\n",
       "      <td>Basketball Men's Basketball</td>\n",
       "      <td>NaN</td>\n",
       "    </tr>\n",
       "    <tr>\n",
       "      <th>1</th>\n",
       "      <td>2</td>\n",
       "      <td>A Lamusi</td>\n",
       "      <td>M</td>\n",
       "      <td>23.0</td>\n",
       "      <td>170.0</td>\n",
       "      <td>60.0</td>\n",
       "      <td>China</td>\n",
       "      <td>CHN</td>\n",
       "      <td>2012 Summer</td>\n",
       "      <td>2012</td>\n",
       "      <td>Summer</td>\n",
       "      <td>London</td>\n",
       "      <td>Judo</td>\n",
       "      <td>Judo Men's Extra-Lightweight</td>\n",
       "      <td>NaN</td>\n",
       "    </tr>\n",
       "    <tr>\n",
       "      <th>2</th>\n",
       "      <td>3</td>\n",
       "      <td>Gunnar Nielsen Aaby</td>\n",
       "      <td>M</td>\n",
       "      <td>24.0</td>\n",
       "      <td>NaN</td>\n",
       "      <td>NaN</td>\n",
       "      <td>Denmark</td>\n",
       "      <td>DEN</td>\n",
       "      <td>1920 Summer</td>\n",
       "      <td>1920</td>\n",
       "      <td>Summer</td>\n",
       "      <td>Antwerpen</td>\n",
       "      <td>Football</td>\n",
       "      <td>Football Men's Football</td>\n",
       "      <td>NaN</td>\n",
       "    </tr>\n",
       "    <tr>\n",
       "      <th>3</th>\n",
       "      <td>4</td>\n",
       "      <td>Edgar Lindenau Aabye</td>\n",
       "      <td>M</td>\n",
       "      <td>34.0</td>\n",
       "      <td>NaN</td>\n",
       "      <td>NaN</td>\n",
       "      <td>Denmark/Sweden</td>\n",
       "      <td>DEN</td>\n",
       "      <td>1900 Summer</td>\n",
       "      <td>1900</td>\n",
       "      <td>Summer</td>\n",
       "      <td>Paris</td>\n",
       "      <td>Tug-Of-War</td>\n",
       "      <td>Tug-Of-War Men's Tug-Of-War</td>\n",
       "      <td>Gold</td>\n",
       "    </tr>\n",
       "    <tr>\n",
       "      <th>4</th>\n",
       "      <td>5</td>\n",
       "      <td>Christine Jacoba Aaftink</td>\n",
       "      <td>F</td>\n",
       "      <td>21.0</td>\n",
       "      <td>185.0</td>\n",
       "      <td>82.0</td>\n",
       "      <td>Netherlands</td>\n",
       "      <td>NED</td>\n",
       "      <td>1988 Winter</td>\n",
       "      <td>1988</td>\n",
       "      <td>Winter</td>\n",
       "      <td>Calgary</td>\n",
       "      <td>Speed Skating</td>\n",
       "      <td>Speed Skating Women's 500 metres</td>\n",
       "      <td>NaN</td>\n",
       "    </tr>\n",
       "  </tbody>\n",
       "</table>\n",
       "</div>"
      ],
      "text/plain": [
       "   ID                      Name Sex   Age  Height  Weight            Team  \\\n",
       "0   1                 A Dijiang   M  24.0   180.0    80.0           China   \n",
       "1   2                  A Lamusi   M  23.0   170.0    60.0           China   \n",
       "2   3       Gunnar Nielsen Aaby   M  24.0     NaN     NaN         Denmark   \n",
       "3   4      Edgar Lindenau Aabye   M  34.0     NaN     NaN  Denmark/Sweden   \n",
       "4   5  Christine Jacoba Aaftink   F  21.0   185.0    82.0     Netherlands   \n",
       "\n",
       "   NOC        Games  Year  Season       City          Sport  \\\n",
       "0  CHN  1992 Summer  1992  Summer  Barcelona     Basketball   \n",
       "1  CHN  2012 Summer  2012  Summer     London           Judo   \n",
       "2  DEN  1920 Summer  1920  Summer  Antwerpen       Football   \n",
       "3  DEN  1900 Summer  1900  Summer      Paris     Tug-Of-War   \n",
       "4  NED  1988 Winter  1988  Winter    Calgary  Speed Skating   \n",
       "\n",
       "                              Event Medal  \n",
       "0       Basketball Men's Basketball   NaN  \n",
       "1      Judo Men's Extra-Lightweight   NaN  \n",
       "2           Football Men's Football   NaN  \n",
       "3       Tug-Of-War Men's Tug-Of-War  Gold  \n",
       "4  Speed Skating Women's 500 metres   NaN  "
      ]
     },
     "execution_count": 6,
     "metadata": {},
     "output_type": "execute_result"
    }
   ],
   "source": [
    "data.head()"
   ]
  },
  {
   "cell_type": "code",
   "execution_count": 7,
   "metadata": {},
   "outputs": [
    {
     "data": {
      "text/plain": [
       "14.0"
      ]
     },
     "execution_count": 7,
     "metadata": {},
     "output_type": "execute_result"
    }
   ],
   "source": [
    "new_data = data[data.Year == 1996]\n",
    "new_data[new_data['Sex'] == 'M']['Age'].min() #the youngest male was 14 years old"
   ]
  },
  {
   "cell_type": "code",
   "execution_count": 8,
   "metadata": {},
   "outputs": [
    {
     "data": {
      "text/plain": [
       "12.0"
      ]
     },
     "execution_count": 8,
     "metadata": {},
     "output_type": "execute_result"
    }
   ],
   "source": [
    "new_data[new_data['Sex'] == 'F']['Age'].min() #the youngest female was 12 years old"
   ]
  },
  {
   "cell_type": "code",
   "execution_count": 9,
   "metadata": {},
   "outputs": [
    {
     "data": {
      "text/plain": [
       "0.2"
      ]
     },
     "execution_count": 9,
     "metadata": {},
     "output_type": "execute_result"
    }
   ],
   "source": [
    "n_data = data[data.Year == 2000][data.Sex == 'M']\n",
    "np.round(n_data[n_data['Sport'] == 'Athletics'].shape[0]/n_data.shape[0], decimals = 1)\n",
    "#процент мужчин-атлетов в 2000 году -  0.2"
   ]
  },
  {
   "cell_type": "code",
   "execution_count": 10,
   "metadata": {},
   "outputs": [
    {
     "data": {
      "text/plain": [
       "182.4"
      ]
     },
     "execution_count": 10,
     "metadata": {},
     "output_type": "execute_result"
    }
   ],
   "source": [
    "f_data = data[data.Year == 2000][data.Sex == 'F']\n",
    "np.round(f_data[f_data['Sport'] == 'Basketball']['Height'].describe()[1], decimals = 1)  \n",
    "#средний рост баскетболистки Олимпийских игр 2000"
   ]
  },
  {
   "cell_type": "code",
   "execution_count": 11,
   "metadata": {},
   "outputs": [
    {
     "data": {
      "text/plain": [
       "9.1"
      ]
     },
     "execution_count": 11,
     "metadata": {},
     "output_type": "execute_result"
    }
   ],
   "source": [
    "np.round(f_data[f_data['Sport'] == 'Basketball']['Height'].describe()[2], decimals = 1)\n",
    "#среднеквадратическое отклонение"
   ]
  },
  {
   "cell_type": "code",
   "execution_count": 12,
   "metadata": {},
   "outputs": [
    {
     "data": {
      "text/plain": [
       "99154    Bobsleigh\n",
       "Name: Sport, dtype: object"
      ]
     },
     "execution_count": 12,
     "metadata": {},
     "output_type": "execute_result"
    }
   ],
   "source": [
    "h_data= data[data['Year'] == 2002]\n",
    "h_data[h_data['Weight'] == h_data['Weight'].max()]['Sport']\n",
    "#ответ - бобслей"
   ]
  },
  {
   "cell_type": "code",
   "execution_count": 13,
   "metadata": {},
   "outputs": [
    {
     "data": {
      "text/plain": [
       "3"
      ]
     },
     "execution_count": 13,
     "metadata": {},
     "output_type": "execute_result"
    }
   ],
   "source": [
    "data[data['Name'] == 'Pawe Abratkiewicz']['Year'].nunique() #Спортсмен учавствовал в \n",
    "#соревнованиях в трёх разных годах"
   ]
  },
  {
   "cell_type": "code",
   "execution_count": 14,
   "metadata": {},
   "outputs": [
    {
     "data": {
      "text/plain": [
       "Silver    2\n",
       "Name: Medal, dtype: int64"
      ]
     },
     "execution_count": 14,
     "metadata": {},
     "output_type": "execute_result"
    }
   ],
   "source": [
    "data[data['Team'] == 'Australia'][data['Year'] == 2000][data['Sport'] =='Tennis']['Medal'].value_counts()\n",
    "#2 медали"
   ]
  },
  {
   "cell_type": "code",
   "execution_count": 15,
   "metadata": {},
   "outputs": [
    {
     "data": {
      "text/plain": [
       "11"
      ]
     },
     "execution_count": 15,
     "metadata": {},
     "output_type": "execute_result"
    }
   ],
   "source": [
    "data[data['Team'] == 'Switzerland'][data['Year'] == 2016]['Medal'].value_counts().sum()"
   ]
  },
  {
   "cell_type": "code",
   "execution_count": 16,
   "metadata": {},
   "outputs": [
    {
     "data": {
      "text/plain": [
       "54"
      ]
     },
     "execution_count": 16,
     "metadata": {},
     "output_type": "execute_result"
    }
   ],
   "source": [
    "data[data['Team'] == 'Serbia'][data['Year'] == 2016]['Medal'].value_counts().sum() #У Швейцарии меньше медалей"
   ]
  },
  {
   "cell_type": "code",
   "execution_count": 17,
   "metadata": {},
   "outputs": [
    {
     "data": {
      "text/plain": [
       "54"
      ]
     },
     "execution_count": 17,
     "metadata": {},
     "output_type": "execute_result"
    }
   ],
   "source": [
    "s_data = data.loc[data.Team.isin(['Serbia', 'Switzerland']), ['Team', 'Year' , 'Medal']]\n",
    "s_data = s_data[s_data['Year'] == 2016]\n",
    "s_data[s_data['Team'] == 'Serbia']['Medal'].value_counts().sum() #количество медалей у Сербии "
   ]
  },
  {
   "cell_type": "code",
   "execution_count": 18,
   "metadata": {},
   "outputs": [
    {
     "data": {
      "text/plain": [
       "11"
      ]
     },
     "execution_count": 18,
     "metadata": {},
     "output_type": "execute_result"
    }
   ],
   "source": [
    "s_data[s_data['Team'] == 'Switzerland']['Medal'].value_counts().sum() #количество медлаей у Швейцварии \n",
    "#второе решение"
   ]
  },
  {
   "cell_type": "code",
   "execution_count": 19,
   "metadata": {},
   "outputs": [
    {
     "data": {
      "text/plain": [
       "24.0    420\n",
       "23.0    396\n",
       "25.0    395\n",
       "26.0    384\n",
       "28.0    376\n",
       "27.0    363\n",
       "22.0    361\n",
       "29.0    282\n",
       "21.0    280\n",
       "30.0    242\n",
       "20.0    206\n",
       "31.0    201\n",
       "19.0    142\n",
       "32.0    142\n",
       "33.0    135\n",
       "18.0    130\n",
       "35.0     82\n",
       "34.0     74\n",
       "36.0     70\n",
       "17.0     58\n",
       "37.0     30\n",
       "38.0     25\n",
       "16.0     24\n",
       "40.0     18\n",
       "39.0     14\n",
       "41.0     14\n",
       "15.0     10\n",
       "42.0      6\n",
       "43.0      3\n",
       "44.0      3\n",
       "45.0      1\n",
       "55.0      1\n",
       "47.0      1\n",
       "46.0      1\n",
       "48.0      1\n",
       "Name: Age, dtype: int64"
      ]
     },
     "execution_count": 19,
     "metadata": {},
     "output_type": "execute_result"
    }
   ],
   "source": [
    "data[data['Year'] == 2014]['Age'].value_counts()"
   ]
  },
  {
   "cell_type": "code",
   "execution_count": 25,
   "metadata": {},
   "outputs": [
    {
     "data": {
      "text/html": [
       "<div>\n",
       "<style scoped>\n",
       "    .dataframe tbody tr th:only-of-type {\n",
       "        vertical-align: middle;\n",
       "    }\n",
       "\n",
       "    .dataframe tbody tr th {\n",
       "        vertical-align: top;\n",
       "    }\n",
       "\n",
       "    .dataframe thead th {\n",
       "        text-align: right;\n",
       "    }\n",
       "</style>\n",
       "<table border=\"1\" class=\"dataframe\">\n",
       "  <thead>\n",
       "    <tr style=\"text-align: right;\">\n",
       "      <th></th>\n",
       "      <th>ID</th>\n",
       "      <th>Name</th>\n",
       "      <th>Sex</th>\n",
       "      <th>Age</th>\n",
       "      <th>Height</th>\n",
       "      <th>Weight</th>\n",
       "      <th>Team</th>\n",
       "      <th>NOC</th>\n",
       "      <th>Games</th>\n",
       "      <th>Year</th>\n",
       "      <th>Season</th>\n",
       "      <th>City</th>\n",
       "      <th>Sport</th>\n",
       "      <th>Event</th>\n",
       "      <th>Medal</th>\n",
       "    </tr>\n",
       "  </thead>\n",
       "  <tbody>\n",
       "  </tbody>\n",
       "</table>\n",
       "</div>"
      ],
      "text/plain": [
       "Empty DataFrame\n",
       "Columns: [ID, Name, Sex, Age, Height, Weight, Team, NOC, Games, Year, Season, City, Sport, Event, Medal]\n",
       "Index: []"
      ]
     },
     "execution_count": 25,
     "metadata": {},
     "output_type": "execute_result"
    }
   ],
   "source": [
    "seas_data = data[data['Season'] == 'Summer']\n",
    "seas_data[seas_data['City'] == 'Lake Placid'] #летов в Lake Placid не проводились соревнования"
   ]
  },
  {
   "cell_type": "code",
   "execution_count": 28,
   "metadata": {},
   "outputs": [
    {
     "data": {
      "text/html": [
       "<div>\n",
       "<style scoped>\n",
       "    .dataframe tbody tr th:only-of-type {\n",
       "        vertical-align: middle;\n",
       "    }\n",
       "\n",
       "    .dataframe tbody tr th {\n",
       "        vertical-align: top;\n",
       "    }\n",
       "\n",
       "    .dataframe thead th {\n",
       "        text-align: right;\n",
       "    }\n",
       "</style>\n",
       "<table border=\"1\" class=\"dataframe\">\n",
       "  <thead>\n",
       "    <tr style=\"text-align: right;\">\n",
       "      <th></th>\n",
       "      <th>ID</th>\n",
       "      <th>Name</th>\n",
       "      <th>Sex</th>\n",
       "      <th>Age</th>\n",
       "      <th>Height</th>\n",
       "      <th>Weight</th>\n",
       "      <th>Team</th>\n",
       "      <th>NOC</th>\n",
       "      <th>Games</th>\n",
       "      <th>Year</th>\n",
       "      <th>Season</th>\n",
       "      <th>City</th>\n",
       "      <th>Sport</th>\n",
       "      <th>Event</th>\n",
       "      <th>Medal</th>\n",
       "    </tr>\n",
       "  </thead>\n",
       "  <tbody>\n",
       "    <tr>\n",
       "      <th>935</th>\n",
       "      <td>529</td>\n",
       "      <td>Karl Gustaf Emanuel Abrahamsson</td>\n",
       "      <td>M</td>\n",
       "      <td>31.0</td>\n",
       "      <td>NaN</td>\n",
       "      <td>NaN</td>\n",
       "      <td>Sweden</td>\n",
       "      <td>SWE</td>\n",
       "      <td>1928 Winter</td>\n",
       "      <td>1928</td>\n",
       "      <td>Winter</td>\n",
       "      <td>Sankt Moritz</td>\n",
       "      <td>Ice Hockey</td>\n",
       "      <td>Ice Hockey Men's Ice Hockey</td>\n",
       "      <td>Silver</td>\n",
       "    </tr>\n",
       "    <tr>\n",
       "      <th>1187</th>\n",
       "      <td>665</td>\n",
       "      <td>Gilbert Achard-Picard</td>\n",
       "      <td>M</td>\n",
       "      <td>29.0</td>\n",
       "      <td>NaN</td>\n",
       "      <td>NaN</td>\n",
       "      <td>France-2</td>\n",
       "      <td>FRA</td>\n",
       "      <td>1948 Winter</td>\n",
       "      <td>1948</td>\n",
       "      <td>Winter</td>\n",
       "      <td>Sankt Moritz</td>\n",
       "      <td>Bobsleigh</td>\n",
       "      <td>Bobsleigh Men's Four</td>\n",
       "      <td>NaN</td>\n",
       "    </tr>\n",
       "    <tr>\n",
       "      <th>1439</th>\n",
       "      <td>802</td>\n",
       "      <td>Tadeusz Ralf Adamowski</td>\n",
       "      <td>M</td>\n",
       "      <td>26.0</td>\n",
       "      <td>177.0</td>\n",
       "      <td>70.0</td>\n",
       "      <td>Poland</td>\n",
       "      <td>POL</td>\n",
       "      <td>1928 Winter</td>\n",
       "      <td>1928</td>\n",
       "      <td>Winter</td>\n",
       "      <td>Sankt Moritz</td>\n",
       "      <td>Ice Hockey</td>\n",
       "      <td>Ice Hockey Men's Ice Hockey</td>\n",
       "      <td>NaN</td>\n",
       "    </tr>\n",
       "    <tr>\n",
       "      <th>1454</th>\n",
       "      <td>810</td>\n",
       "      <td>Bridget Shirley Adams (-Bengough)</td>\n",
       "      <td>F</td>\n",
       "      <td>19.0</td>\n",
       "      <td>NaN</td>\n",
       "      <td>NaN</td>\n",
       "      <td>Great Britain</td>\n",
       "      <td>GBR</td>\n",
       "      <td>1948 Winter</td>\n",
       "      <td>1948</td>\n",
       "      <td>Winter</td>\n",
       "      <td>Sankt Moritz</td>\n",
       "      <td>Figure Skating</td>\n",
       "      <td>Figure Skating Women's Singles</td>\n",
       "      <td>NaN</td>\n",
       "    </tr>\n",
       "    <tr>\n",
       "      <th>2707</th>\n",
       "      <td>1508</td>\n",
       "      <td>Enrico Airoldi</td>\n",
       "      <td>M</td>\n",
       "      <td>24.0</td>\n",
       "      <td>NaN</td>\n",
       "      <td>NaN</td>\n",
       "      <td>Italy-2</td>\n",
       "      <td>ITA</td>\n",
       "      <td>1948 Winter</td>\n",
       "      <td>1948</td>\n",
       "      <td>Winter</td>\n",
       "      <td>Sankt Moritz</td>\n",
       "      <td>Bobsleigh</td>\n",
       "      <td>Bobsleigh Men's Four</td>\n",
       "      <td>NaN</td>\n",
       "    </tr>\n",
       "    <tr>\n",
       "      <th>...</th>\n",
       "      <td>...</td>\n",
       "      <td>...</td>\n",
       "      <td>...</td>\n",
       "      <td>...</td>\n",
       "      <td>...</td>\n",
       "      <td>...</td>\n",
       "      <td>...</td>\n",
       "      <td>...</td>\n",
       "      <td>...</td>\n",
       "      <td>...</td>\n",
       "      <td>...</td>\n",
       "      <td>...</td>\n",
       "      <td>...</td>\n",
       "      <td>...</td>\n",
       "      <td>...</td>\n",
       "    </tr>\n",
       "    <tr>\n",
       "      <th>270713</th>\n",
       "      <td>135383</td>\n",
       "      <td>Annelore Zckert (-Zrost)</td>\n",
       "      <td>F</td>\n",
       "      <td>22.0</td>\n",
       "      <td>NaN</td>\n",
       "      <td>NaN</td>\n",
       "      <td>Austria</td>\n",
       "      <td>AUT</td>\n",
       "      <td>1948 Winter</td>\n",
       "      <td>1948</td>\n",
       "      <td>Winter</td>\n",
       "      <td>Sankt Moritz</td>\n",
       "      <td>Alpine Skiing</td>\n",
       "      <td>Alpine Skiing Women's Downhill</td>\n",
       "      <td>NaN</td>\n",
       "    </tr>\n",
       "    <tr>\n",
       "      <th>270714</th>\n",
       "      <td>135383</td>\n",
       "      <td>Annelore Zckert (-Zrost)</td>\n",
       "      <td>F</td>\n",
       "      <td>22.0</td>\n",
       "      <td>NaN</td>\n",
       "      <td>NaN</td>\n",
       "      <td>Austria</td>\n",
       "      <td>AUT</td>\n",
       "      <td>1948 Winter</td>\n",
       "      <td>1948</td>\n",
       "      <td>Winter</td>\n",
       "      <td>Sankt Moritz</td>\n",
       "      <td>Alpine Skiing</td>\n",
       "      <td>Alpine Skiing Women's Slalom</td>\n",
       "      <td>NaN</td>\n",
       "    </tr>\n",
       "    <tr>\n",
       "      <th>270863</th>\n",
       "      <td>135463</td>\n",
       "      <td>Hans Zurbriggen</td>\n",
       "      <td>M</td>\n",
       "      <td>27.0</td>\n",
       "      <td>NaN</td>\n",
       "      <td>NaN</td>\n",
       "      <td>Switzerland</td>\n",
       "      <td>SUI</td>\n",
       "      <td>1948 Winter</td>\n",
       "      <td>1948</td>\n",
       "      <td>Winter</td>\n",
       "      <td>Sankt Moritz</td>\n",
       "      <td>Ski Jumping</td>\n",
       "      <td>Ski Jumping Men's Normal Hill, Individual</td>\n",
       "      <td>NaN</td>\n",
       "    </tr>\n",
       "    <tr>\n",
       "      <th>270881</th>\n",
       "      <td>135466</td>\n",
       "      <td>Robert Zurbriggen</td>\n",
       "      <td>M</td>\n",
       "      <td>30.0</td>\n",
       "      <td>NaN</td>\n",
       "      <td>NaN</td>\n",
       "      <td>Switzerland</td>\n",
       "      <td>SUI</td>\n",
       "      <td>1948 Winter</td>\n",
       "      <td>1948</td>\n",
       "      <td>Winter</td>\n",
       "      <td>Sankt Moritz</td>\n",
       "      <td>Cross Country Skiing</td>\n",
       "      <td>Cross Country Skiing Men's 18 kilometres</td>\n",
       "      <td>NaN</td>\n",
       "    </tr>\n",
       "    <tr>\n",
       "      <th>270882</th>\n",
       "      <td>135466</td>\n",
       "      <td>Robert Zurbriggen</td>\n",
       "      <td>M</td>\n",
       "      <td>30.0</td>\n",
       "      <td>NaN</td>\n",
       "      <td>NaN</td>\n",
       "      <td>Switzerland</td>\n",
       "      <td>SUI</td>\n",
       "      <td>1948 Winter</td>\n",
       "      <td>1948</td>\n",
       "      <td>Winter</td>\n",
       "      <td>Sankt Moritz</td>\n",
       "      <td>Cross Country Skiing</td>\n",
       "      <td>Cross Country Skiing Men's 4 x 10 kilometres R...</td>\n",
       "      <td>NaN</td>\n",
       "    </tr>\n",
       "  </tbody>\n",
       "</table>\n",
       "<p>1657 rows × 15 columns</p>\n",
       "</div>"
      ],
      "text/plain": [
       "            ID                               Name Sex   Age  Height  Weight  \\\n",
       "935        529    Karl Gustaf Emanuel Abrahamsson   M  31.0     NaN     NaN   \n",
       "1187       665              Gilbert Achard-Picard   M  29.0     NaN     NaN   \n",
       "1439       802             Tadeusz Ralf Adamowski   M  26.0   177.0    70.0   \n",
       "1454       810  Bridget Shirley Adams (-Bengough)   F  19.0     NaN     NaN   \n",
       "2707      1508                     Enrico Airoldi   M  24.0     NaN     NaN   \n",
       "...        ...                                ...  ..   ...     ...     ...   \n",
       "270713  135383           Annelore Zckert (-Zrost)   F  22.0     NaN     NaN   \n",
       "270714  135383           Annelore Zckert (-Zrost)   F  22.0     NaN     NaN   \n",
       "270863  135463                    Hans Zurbriggen   M  27.0     NaN     NaN   \n",
       "270881  135466                  Robert Zurbriggen   M  30.0     NaN     NaN   \n",
       "270882  135466                  Robert Zurbriggen   M  30.0     NaN     NaN   \n",
       "\n",
       "                 Team  NOC        Games  Year  Season          City  \\\n",
       "935            Sweden  SWE  1928 Winter  1928  Winter  Sankt Moritz   \n",
       "1187         France-2  FRA  1948 Winter  1948  Winter  Sankt Moritz   \n",
       "1439           Poland  POL  1928 Winter  1928  Winter  Sankt Moritz   \n",
       "1454    Great Britain  GBR  1948 Winter  1948  Winter  Sankt Moritz   \n",
       "2707          Italy-2  ITA  1948 Winter  1948  Winter  Sankt Moritz   \n",
       "...               ...  ...          ...   ...     ...           ...   \n",
       "270713        Austria  AUT  1948 Winter  1948  Winter  Sankt Moritz   \n",
       "270714        Austria  AUT  1948 Winter  1948  Winter  Sankt Moritz   \n",
       "270863    Switzerland  SUI  1948 Winter  1948  Winter  Sankt Moritz   \n",
       "270881    Switzerland  SUI  1948 Winter  1948  Winter  Sankt Moritz   \n",
       "270882    Switzerland  SUI  1948 Winter  1948  Winter  Sankt Moritz   \n",
       "\n",
       "                       Sport  \\\n",
       "935               Ice Hockey   \n",
       "1187               Bobsleigh   \n",
       "1439              Ice Hockey   \n",
       "1454          Figure Skating   \n",
       "2707               Bobsleigh   \n",
       "...                      ...   \n",
       "270713         Alpine Skiing   \n",
       "270714         Alpine Skiing   \n",
       "270863           Ski Jumping   \n",
       "270881  Cross Country Skiing   \n",
       "270882  Cross Country Skiing   \n",
       "\n",
       "                                                    Event   Medal  \n",
       "935                           Ice Hockey Men's Ice Hockey  Silver  \n",
       "1187                                 Bobsleigh Men's Four     NaN  \n",
       "1439                          Ice Hockey Men's Ice Hockey     NaN  \n",
       "1454                       Figure Skating Women's Singles     NaN  \n",
       "2707                                 Bobsleigh Men's Four     NaN  \n",
       "...                                                   ...     ...  \n",
       "270713                     Alpine Skiing Women's Downhill     NaN  \n",
       "270714                       Alpine Skiing Women's Slalom     NaN  \n",
       "270863          Ski Jumping Men's Normal Hill, Individual     NaN  \n",
       "270881           Cross Country Skiing Men's 18 kilometres     NaN  \n",
       "270882  Cross Country Skiing Men's 4 x 10 kilometres R...     NaN  \n",
       "\n",
       "[1657 rows x 15 columns]"
      ]
     },
     "execution_count": 28,
     "metadata": {},
     "output_type": "execute_result"
    }
   ],
   "source": [
    "seaw_data = data[data['Season'] == 'Winter']\n",
    "seaw_data[seaw_data['City'] == 'Sankt Moritz'] #зимой в Sankt Moritz проводились соревнования (No,Yes)"
   ]
  },
  {
   "cell_type": "code",
   "execution_count": 45,
   "metadata": {},
   "outputs": [
    {
     "data": {
      "text/plain": [
       "array([1992, 2012, 1920, 1900, 1988, 1994, 1932, 2002, 1952, 1980, 2000,\n",
       "       1996, 1912, 1924, 2014, 1948, 1998, 2006, 2008, 2016, 2004, 1960,\n",
       "       1964, 1984, 1968, 1972, 1936, 1956, 1928, 1976, 2010, 1906, 1904,\n",
       "       1908, 1896], dtype=int64)"
      ]
     },
     "execution_count": 45,
     "metadata": {},
     "output_type": "execute_result"
    }
   ],
   "source": [
    "data['Year'].unique() #в 1995 не было игр"
   ]
  },
  {
   "cell_type": "code",
   "execution_count": 47,
   "metadata": {},
   "outputs": [
    {
     "data": {
      "text/plain": [
       "34"
      ]
     },
     "execution_count": 47,
     "metadata": {},
     "output_type": "execute_result"
    }
   ],
   "source": [
    "data[data['Year'] == 2016]['Sport'].nunique() #34 unique sports in 2016"
   ]
  },
  {
   "cell_type": "code",
   "execution_count": 60,
   "metadata": {},
   "outputs": [
    {
     "data": {
      "text/plain": [
       "5"
      ]
     },
     "execution_count": 60,
     "metadata": {},
     "output_type": "execute_result"
    }
   ],
   "source": [
    "data[(data['Year']==2014) & (data['Age']>=45) & (data['Age']<=55)]['Name'].nunique()"
   ]
  },
  {
   "cell_type": "code",
   "execution_count": 61,
   "metadata": {},
   "outputs": [
    {
     "data": {
      "text/plain": [
       "151"
      ]
     },
     "execution_count": 61,
     "metadata": {},
     "output_type": "execute_result"
    }
   ],
   "source": [
    "data[(data['Year']==2014) & (data['Age']>=35) & (data['Age']<=45)]['Name'].nunique()"
   ]
  },
  {
   "cell_type": "code",
   "execution_count": 62,
   "metadata": {},
   "outputs": [
    {
     "data": {
      "text/plain": [
       "1397"
      ]
     },
     "execution_count": 62,
     "metadata": {},
     "output_type": "execute_result"
    }
   ],
   "source": [
    "data[(data['Year']==2014) & (data['Age']>=25) & (data['Age']<35)]['Name'].nunique()"
   ]
  },
  {
   "cell_type": "code",
   "execution_count": 63,
   "metadata": {},
   "outputs": [
    {
     "data": {
      "text/plain": [
       "1193"
      ]
     },
     "execution_count": 63,
     "metadata": {},
     "output_type": "execute_result"
    }
   ],
   "source": [
    "data[(data['Year']==2014) & (data['Age']>=15) & (data['Age']<25)]['Name'].nunique()"
   ]
  },
  {
   "cell_type": "code",
   "execution_count": 65,
   "metadata": {},
   "outputs": [
    {
     "data": {
      "text/plain": [
       "150"
      ]
     },
     "execution_count": 65,
     "metadata": {},
     "output_type": "execute_result"
    }
   ],
   "source": [
    "data[(data['Year']==2014) & (data['Age']>=35) & (data['Age']<45)]['Name'].nunique()\n",
    "#ответ - [45-55] and [25-35) correspondingly"
   ]
  },
  {
   "cell_type": "code",
   "execution_count": null,
   "metadata": {},
   "outputs": [],
   "source": []
  }
 ],
 "metadata": {
  "kernelspec": {
   "display_name": "Python 3",
   "language": "python",
   "name": "python3"
  },
  "language_info": {
   "codemirror_mode": {
    "name": "ipython",
    "version": 3
   },
   "file_extension": ".py",
   "mimetype": "text/x-python",
   "name": "python",
   "nbconvert_exporter": "python",
   "pygments_lexer": "ipython3",
   "version": "3.8.0"
  }
 },
 "nbformat": 4,
 "nbformat_minor": 4
}
